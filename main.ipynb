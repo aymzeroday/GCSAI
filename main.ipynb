{
 "cells": [
  {
   "cell_type": "code",
   "execution_count": 1,
   "metadata": {},
   "outputs": [],
   "source": [
    "import pandas as pd\n",
    "from datetime import datetime, timedelta\n",
    "import numpy as np\n",
    "import seaborn as sns\n",
    "import plotly.express as px\n",
    "import matplotlib.pyplot as plt\n",
    "from warnings import filterwarnings\n",
    "from mpl_toolkits.mplot3d import Axes3D\n",
    "import statsmodels.api as sm\n",
    "import missingno as msno\n",
    "from sklearn.decomposition import PCA\n",
    "from sklearn.preprocessing import OrdinalEncoder\n",
    "from sklearn.preprocessing import scale\n",
    "from sklearn.neighbors import LocalOutlierFactor\n",
    "from scipy.stats import levene\n",
    "from scipy.stats import shapiro\n",
    "from scipy.stats import pearsonr\n",
    "from sklearn.preprocessing import LabelEncoder\n",
    "from sklearn.model_selection import train_test_split, cross_val_score, cross_val_predict\n",
    "from sklearn.preprocessing import scale\n",
    "from sklearn.model_selection import ShuffleSplit, GridSearchCV\n",
    "from sklearn.metrics import mean_squared_error, r2_score\n",
    "from sklearn import model_selection\n",
    "from sklearn.tree import DecisionTreeClassifier, DecisionTreeRegressor\n",
    "from sklearn.neighbors import KNeighborsRegressor\n",
    "from sklearn.neighbors import KNeighborsClassifier\n",
    "from sklearn.ensemble import BaggingRegressor\n",
    "from sklearn.svm import SVR\n",
    "from sklearn.preprocessing import StandardScaler\n",
    "from sklearn.neural_network import MLPRegressor\n",
    "from sklearn.neural_network import MLPClassifier\n",
    "from sklearn.linear_model import LinearRegression\n",
    "from sklearn.cross_decomposition import PLSRegression\n",
    "from sklearn.linear_model import Ridge\n",
    "from sklearn.linear_model import RidgeCV\n",
    "from sklearn.linear_model import Lasso\n",
    "from sklearn.linear_model import LassoCV\n",
    "from sklearn.linear_model import ElasticNet\n",
    "from sklearn.linear_model import ElasticNetCV\n",
    "from sklearn import linear_model\n",
    "from sklearn.ensemble import RandomForestRegressor, RandomForestClassifier\n",
    "from sklearn.ensemble import GradientBoostingRegressor, GradientBoostingClassifier\n",
    "import xgboost as xgb\n",
    "from xgboost import XGBRegressor, XGBClassifier\n",
    "from lightgbm import LGBMRegressor, LGBMClassifier\n",
    "from catboost import CatBoostRegressor, CatBoostClassifier\n",
    "from sklearn.linear_model import LogisticRegression\n",
    "from sklearn.naive_bayes import GaussianNB\n",
    "from sklearn.svm import SVC\n",
    "from sklearn import tree\n",
    "from sklearn.discriminant_analysis import LinearDiscriminantAnalysis\n",
    "from sklearn.metrics import confusion_matrix, accuracy_score, classification_report, roc_auc_score, roc_curve"
   ]
  },
  {
   "cell_type": "code",
   "execution_count": 2,
   "metadata": {},
   "outputs": [
    {
     "data": {
      "text/html": [
       "<div>\n",
       "<style scoped>\n",
       "    .dataframe tbody tr th:only-of-type {\n",
       "        vertical-align: middle;\n",
       "    }\n",
       "\n",
       "    .dataframe tbody tr th {\n",
       "        vertical-align: top;\n",
       "    }\n",
       "\n",
       "    .dataframe thead th {\n",
       "        text-align: right;\n",
       "    }\n",
       "</style>\n",
       "<table border=\"1\" class=\"dataframe\">\n",
       "  <thead>\n",
       "    <tr style=\"text-align: right;\">\n",
       "      <th></th>\n",
       "      <th>Service</th>\n",
       "      <th>ConNo</th>\n",
       "      <th>Charge</th>\n",
       "      <th>in</th>\n",
       "      <th>out</th>\n",
       "      <th>id</th>\n",
       "      <th>LineOp</th>\n",
       "      <th>totality</th>\n",
       "      <th>code</th>\n",
       "      <th>type</th>\n",
       "      <th>length</th>\n",
       "      <th>stop</th>\n",
       "    </tr>\n",
       "  </thead>\n",
       "  <tbody>\n",
       "    <tr>\n",
       "      <th>0</th>\n",
       "      <td>Import Demurrage charges</td>\n",
       "      <td>AMFU8455669</td>\n",
       "      <td>328</td>\n",
       "      <td>2016-02-02 13:29:50.850</td>\n",
       "      <td>2015-12-17 00:00:00.000</td>\n",
       "      <td>1</td>\n",
       "      <td>MSC</td>\n",
       "      <td>FULL</td>\n",
       "      <td>42G0</td>\n",
       "      <td>DC</td>\n",
       "      <td>40</td>\n",
       "      <td>NaN</td>\n",
       "    </tr>\n",
       "    <tr>\n",
       "      <th>1</th>\n",
       "      <td>Import Demurrage charges</td>\n",
       "      <td>AMFU8615670</td>\n",
       "      <td>25</td>\n",
       "      <td>2016-01-04 12:58:37.553</td>\n",
       "      <td>2015-12-21 00:00:00.000</td>\n",
       "      <td>2</td>\n",
       "      <td>MSC</td>\n",
       "      <td>FULL</td>\n",
       "      <td>42G0</td>\n",
       "      <td>DC</td>\n",
       "      <td>40</td>\n",
       "      <td>NaN</td>\n",
       "    </tr>\n",
       "    <tr>\n",
       "      <th>2</th>\n",
       "      <td>Import Demurrage charges</td>\n",
       "      <td>BMOU5639927</td>\n",
       "      <td>25</td>\n",
       "      <td>2016-01-04 12:58:41.373</td>\n",
       "      <td>2015-12-21 00:00:00.000</td>\n",
       "      <td>3</td>\n",
       "      <td>MSC</td>\n",
       "      <td>FULL</td>\n",
       "      <td>42G0</td>\n",
       "      <td>DC</td>\n",
       "      <td>40</td>\n",
       "      <td>NaN</td>\n",
       "    </tr>\n",
       "    <tr>\n",
       "      <th>3</th>\n",
       "      <td>Import Demurrage charges</td>\n",
       "      <td>CAIU2826800</td>\n",
       "      <td>6</td>\n",
       "      <td>2016-01-04 16:11:02.557</td>\n",
       "      <td>2015-12-26 00:00:00.000</td>\n",
       "      <td>4</td>\n",
       "      <td>MSC</td>\n",
       "      <td>FULL</td>\n",
       "      <td>22G0</td>\n",
       "      <td>DC</td>\n",
       "      <td>20</td>\n",
       "      <td>NaN</td>\n",
       "    </tr>\n",
       "    <tr>\n",
       "      <th>4</th>\n",
       "      <td>Import Demurrage charges</td>\n",
       "      <td>CAIU8841314</td>\n",
       "      <td>15</td>\n",
       "      <td>2016-01-07 12:30:14.927</td>\n",
       "      <td>2015-12-26 00:00:00.000</td>\n",
       "      <td>5</td>\n",
       "      <td>MSC</td>\n",
       "      <td>FULL</td>\n",
       "      <td>42G0</td>\n",
       "      <td>DC</td>\n",
       "      <td>40</td>\n",
       "      <td>NaN</td>\n",
       "    </tr>\n",
       "  </tbody>\n",
       "</table>\n",
       "</div>"
      ],
      "text/plain": [
       "                     Service        ConNo  Charge                       in  \\\n",
       "0  Import Demurrage charges   AMFU8455669     328  2016-02-02 13:29:50.850   \n",
       "1  Import Demurrage charges   AMFU8615670      25  2016-01-04 12:58:37.553   \n",
       "2  Import Demurrage charges   BMOU5639927      25  2016-01-04 12:58:41.373   \n",
       "3  Import Demurrage charges   CAIU2826800       6  2016-01-04 16:11:02.557   \n",
       "4  Import Demurrage charges   CAIU8841314      15  2016-01-07 12:30:14.927   \n",
       "\n",
       "                       out  id LineOp totality  code type  length  stop  \n",
       "0  2015-12-17 00:00:00.000   1    MSC     FULL  42G0   DC      40   NaN  \n",
       "1  2015-12-21 00:00:00.000   2    MSC     FULL  42G0   DC      40   NaN  \n",
       "2  2015-12-21 00:00:00.000   3    MSC     FULL  42G0   DC      40   NaN  \n",
       "3  2015-12-26 00:00:00.000   4    MSC     FULL  22G0   DC      20   NaN  \n",
       "4  2015-12-26 00:00:00.000   5    MSC     FULL  42G0   DC      40   NaN  "
      ]
     },
     "execution_count": 2,
     "metadata": {},
     "output_type": "execute_result"
    }
   ],
   "source": [
    "df = pd.read_csv('Collection.csv', names=['Service', 'ConNo', 'Charge', 'in', 'out', 'id', 'LineOp', 'totality', 'code','type', 'length', 'stop'])\n",
    "df.head()"
   ]
  },
  {
   "cell_type": "code",
   "execution_count": 3,
   "metadata": {},
   "outputs": [],
   "source": [
    "i=0\n",
    "for ex in df['out']:\n",
    "    if type(ex) == float:\n",
    "        df.drop(i, axis=0, inplace=True)\n",
    "    i=i+1"
   ]
  },
  {
   "cell_type": "code",
   "execution_count": 4,
   "metadata": {},
   "outputs": [],
   "source": [
    "i=0\n",
    "for (din, dout) in zip(df['in'], df['out']):\n",
    "    ids = datetime.strptime(din, '%Y-%m-%d %H:%M:%S.%f')\n",
    "    ods = nds = datetime.strptime(dout, '%Y-%m-%d %H:%M:%S.%f')\n",
    "    if (ids-ods) < timedelta(seconds=0):\n",
    "        df.drop(i, axis=0, inplace=True)\n",
    "    i=i+1"
   ]
  },
  {
   "cell_type": "code",
   "execution_count": 5,
   "metadata": {},
   "outputs": [],
   "source": [
    "td = []\n",
    "for (din, dout) in zip(df['in'], df['out']):\n",
    "    ids = datetime.strptime(din, '%Y-%m-%d %H:%M:%S.%f')\n",
    "    ods = nds = datetime.strptime(dout, '%Y-%m-%d %H:%M:%S.%f')\n",
    "    dif=ids-ods\n",
    "    dif = dif.days\n",
    "    td.append(dif)\n",
    "df = df.assign(td=td)"
   ]
  },
  {
   "cell_type": "code",
   "execution_count": null,
   "metadata": {},
   "outputs": [],
   "source": [
    "sns.pairplot(df)"
   ]
  },
  {
   "cell_type": "code",
   "execution_count": null,
   "metadata": {},
   "outputs": [],
   "source": [
    "df.drop(['Service', 'ConNo', 'code', 'in', 'out', 'id', 'totality', 'stop'], 1 , inplace=True)"
   ]
  },
  {
   "cell_type": "code",
   "execution_count": null,
   "metadata": {},
   "outputs": [],
   "source": [
    "# Get list of categorical variables\n",
    "s = (df.dtypes == 'object')\n",
    "object_cols = list(s[s].index)\n",
    "\n",
    "print(\"Categorical variables:\")\n",
    "print(object_cols)\n",
    "\n",
    "ordinal_encoder = OrdinalEncoder()\n",
    "df[object_cols] = ordinal_encoder.fit_transform(df[object_cols])"
   ]
  },
  {
   "cell_type": "code",
   "execution_count": null,
   "metadata": {},
   "outputs": [],
   "source": [
    "fig = px.scatter(df, x=\"td\", y=\"Charge\", color = 'type')\n",
    "fig.show()"
   ]
  },
  {
   "cell_type": "code",
   "execution_count": null,
   "metadata": {},
   "outputs": [],
   "source": [
    "x = df.drop(\"Charge\",axis=1)\n",
    "y = df[\"Charge\"]\n",
    "\n",
    "xTrain,xTest,yTrain,yTest = train_test_split(x,y,test_size=0.2,random_state=42)"
   ]
  },
  {
   "cell_type": "code",
   "execution_count": null,
   "metadata": {},
   "outputs": [],
   "source": [
    "x.isnull().value_counts()"
   ]
  },
  {
   "cell_type": "code",
   "execution_count": null,
   "metadata": {},
   "outputs": [],
   "source": [
    "lm = LinearRegression().fit(xTrain,yTrain)\n",
    "pls = PLSRegression().fit(xTrain,yTrain)\n",
    "ridge = Ridge().fit(xTrain,yTrain)\n",
    "lasso = Lasso().fit(xTrain,yTrain)\n",
    "elasticnet = ElasticNet().fit(xTrain,yTrain)\n",
    "knnr = KNeighborsRegressor().fit(xTrain,yTrain)\n",
    "cartr = DecisionTreeRegressor(random_state=42).fit(xTrain,yTrain)\n",
    "baggr = BaggingRegressor(random_state=42,bootstrap_features=True,verbose=False).fit(xTrain,yTrain)\n",
    "rfr = RandomForestRegressor(random_state=42,verbose=False).fit(xTrain,yTrain)\n",
    "gbmr = GradientBoostingRegressor(verbose=False).fit(xTrain,yTrain)\n",
    "xgbr = XGBRegressor().fit(xTrain,yTrain)\n",
    "lgbmr = LGBMRegressor().fit(xTrain,yTrain)\n",
    "catbr = CatBoostRegressor(verbose=False).fit(xTrain,yTrain)"
   ]
  },
  {
   "cell_type": "code",
   "execution_count": null,
   "metadata": {},
   "outputs": [],
   "source": []
  }
 ],
 "metadata": {
  "kernelspec": {
   "display_name": "Python 3.10.5 64-bit",
   "language": "python",
   "name": "python3"
  },
  "language_info": {
   "codemirror_mode": {
    "name": "ipython",
    "version": 3
   },
   "file_extension": ".py",
   "mimetype": "text/x-python",
   "name": "python",
   "nbconvert_exporter": "python",
   "pygments_lexer": "ipython3",
   "version": "3.10.5"
  },
  "orig_nbformat": 4,
  "vscode": {
   "interpreter": {
    "hash": "0b1df7db88c9e71115a4aff18a94a250ae009d4b56f3a8aeebee4954c9056a06"
   }
  }
 },
 "nbformat": 4,
 "nbformat_minor": 2
}
