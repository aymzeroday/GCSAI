{
 "cells": [
  {
   "cell_type": "code",
   "execution_count": 6,
   "metadata": {},
   "outputs": [],
   "source": [
    "import pandas as pd\n",
    "import numpy as np\n",
    "\n",
    "df = pd.read_csv( 'new.csv')\n"
   ]
  },
  {
   "cell_type": "code",
   "execution_count": 7,
   "metadata": {},
   "outputs": [],
   "source": [
    "drop_labels = ['Service', 'ConNo', 'out', 'in', 'id', 'LineOp', 'code', 'stop', 'oy']"
   ]
  },
  {
   "cell_type": "code",
   "execution_count": 8,
   "metadata": {},
   "outputs": [],
   "source": [
    "def train_test_val_split( x, y, test_samples=30_000, val_samples=30_000 ):\n",
    "\n",
    "    size = len( df )\n",
    "    \n",
    "    test_limit = size - test_samples - val_samples\n",
    "    val_limit = size - val_samples\n",
    "    \n",
    "    dtrain, ltrain = x[ : test_limit ], y[ : test_limit ]\n",
    "    dtest, ltest  = x[ test_limit : val_limit ], y[ test_limit : val_limit ]\n",
    "    dval, lval   = x[ val_limit : ], y[ val_limit : ]\n",
    "    \n",
    "    return ( dtrain, ltrain ), ( dtest, ltest ), ( dval, lval )"
   ]
  },
  {
   "cell_type": "code",
   "execution_count": 9,
   "metadata": {},
   "outputs": [],
   "source": [
    "dtrain, ltrain = df.drop( labels=drop_labels + ['Charge'], axis=1 ), df.pop( 'Charge' )\n",
    "\n",
    "(dtrain, ltrain), _, (dval, lval) = train_test_val_split( dtrain, ltrain, test_samples=0 )"
   ]
  },
  {
   "cell_type": "code",
   "execution_count": 10,
   "metadata": {},
   "outputs": [],
   "source": [
    "cfi = [ dtrain.columns.tolist().index( 'type' ) ]"
   ]
  },
  {
   "cell_type": "code",
   "execution_count": null,
   "metadata": {},
   "outputs": [],
   "source": [
    "f = lambda x: 9 if x > 8 else x\n",
    "\n",
    "dtrain.headshotKills = dtrain.headshotKills.apply( f )\n",
    "dval.headshotKills = dval.headshotKills.apply( f )"
   ]
  }
 ],
 "metadata": {
  "kernelspec": {
   "display_name": "Python 3.10.5 64-bit",
   "language": "python",
   "name": "python3"
  },
  "language_info": {
   "codemirror_mode": {
    "name": "ipython",
    "version": 3
   },
   "file_extension": ".py",
   "mimetype": "text/x-python",
   "name": "python",
   "nbconvert_exporter": "python",
   "pygments_lexer": "ipython3",
   "version": "3.10.5"
  },
  "orig_nbformat": 4,
  "vscode": {
   "interpreter": {
    "hash": "0b1df7db88c9e71115a4aff18a94a250ae009d4b56f3a8aeebee4954c9056a06"
   }
  }
 },
 "nbformat": 4,
 "nbformat_minor": 2
}
